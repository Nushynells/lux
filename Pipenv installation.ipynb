{
 "cells": 
  {
   "cell_type": "code",
   "execution_count": 5,
   "metadata": {},
   "outputs": [
    {
     "name": "stdout",
     "output_type": "stream",
     "text": [
      "Collecting pipenv\n",
      "  Using cached pipenv-2022.3.28-py2.py3-none-any.whl (3.6 MB)\n",
      "Requirement already satisfied: setuptools>=36.2.1 in c:\\users\\mnyad\\anaconda3\\lib\\site-packages (from pipenv) (49.2.0.post20200714)\n",
      "Collecting virtualenv-clone>=0.2.5\n",
      "  Using cached virtualenv_clone-0.5.7-py3-none-any.whl (6.6 kB)\n",
      "Requirement already satisfied: pip>=18.0 in c:\\users\\mnyad\\anaconda3\\lib\\site-packages (from pipenv) (20.1.1)\n",
      "Collecting virtualenv\n",
      "  Using cached virtualenv-20.14.0-py2.py3-none-any.whl (8.8 MB)\n",
      "Requirement already satisfied: certifi in c:\\users\\mnyad\\anaconda3\\lib\\site-packages (from pipenv) (2020.6.20)\n",
      "Collecting filelock<4,>=3.2\n",
      "  Using cached filelock-3.6.0-py3-none-any.whl (10.0 kB)\n",
      "Collecting platformdirs<3,>=2\n",
      "  Using cached platformdirs-2.5.1-py3-none-any.whl (14 kB)\n",
      "Requirement already satisfied: six<2,>=1.9.0 in c:\\users\\mnyad\\anaconda3\\lib\\site-packages (from virtualenv->pipenv) (1.15.0)\n",
      "Collecting distlib<1,>=0.3.1\n",
      "  Using cached distlib-0.3.4-py2.py3-none-any.whl (461 kB)\n",
      "Installing collected packages: virtualenv-clone, filelock, platformdirs, distlib, virtualenv, pipenv\n",
      "Successfully installed distlib-0.3.4 filelock-3.6.0 pipenv-2022.3.28 platformdirs-2.5.1 virtualenv-20.14.0 virtualenv-clone-0.5.7\n",
      "Note: you may need to restart the kernel to use updated packages.\n"
     ]
    },
    {
     "name": "stderr",
     "output_type": "stream",
     "text": [
      "  WARNING: The script virtualenv-clone.exe is installed in 'C:\\Users\\mnyad\\AppData\\Roaming\\Python\\Python38\\Scripts' which is not on PATH.\n",
      "  Consider adding this directory to PATH or, if you prefer to suppress this warning, use --no-warn-script-location.\n",
      "  WARNING: The script virtualenv.exe is installed in 'C:\\Users\\mnyad\\AppData\\Roaming\\Python\\Python38\\Scripts' which is not on PATH.\n",
      "  Consider adding this directory to PATH or, if you prefer to suppress this warning, use --no-warn-script-location.\n",
      "  WARNING: The scripts pipenv-resolver.exe and pipenv.exe are installed in 'C:\\Users\\mnyad\\AppData\\Roaming\\Python\\Python38\\Scripts' which is not on PATH.\n",
      "  Consider adding this directory to PATH or, if you prefer to suppress this warning, use --no-warn-script-location.\n"
     ]
    }
   ],
   "source": [
    "pip install --user pipenv"
   ]
  },
  {
   "cell_type": "code",
   "execution_count": 1,
   "metadata": {},
   "outputs": [],
   "source": [
    "import requests"
   ]
  },
  {
   "cell_type": "code",
   "execution_count": 3,
   "metadata": {},
   "outputs": [],
   "source": [
    "response = requests.get('https://httbin.org/ip')"
   ]
  },
  {
   "cell_type": "code",
   "execution_count": 7,
   "metadata": {},
   "outputs": [],
   "source": [
    "#print('Your IP is {0}'.format(response.json()['origin']))"
   ]
  }
 ],
 "metadata": {
  "kernelspec": {
   "display_name": "Python 3",
   "language": "python",
   "name": "python3"
  },
  "language_info": {
   "codemirror_mode": {
    "name": "ipython",
    "version": 3
   },
   "file_extension": ".py",
   "mimetype": "text/x-python",
   "name": "python",
   "nbconvert_exporter": "python",
   "pygments_lexer": "ipython3",
   "version": "3.8.3"
  }
 },
 "nbformat": 4,
 "nbformat_minor": 4
}
