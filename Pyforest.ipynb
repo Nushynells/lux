{
 "cells": [
  {
   "cell_type": "code",
   "execution_count": 1,
   "metadata": {},
   "outputs": [
    {
     "name": "stdout",
     "output_type": "stream",
     "text": [
      "Collecting pyforest\n",
      "  Downloading pyforest-1.1.0.tar.gz (15 kB)\n",
      "Building wheels for collected packages: pyforest\n",
      "  Building wheel for pyforest (setup.py): started\n",
      "  Building wheel for pyforest (setup.py): finished with status 'done'\n",
      "  Created wheel for pyforest: filename=pyforest-1.1.0-py2.py3-none-any.whl size=14606 sha256=215b63b90f73cddf52eac4072aa7af9bc2be0d5134896c67764d50580f152072\n",
      "  Stored in directory: c:\\users\\mnyad\\appdata\\local\\pip\\cache\\wheels\\21\\2d\\19\\8b5488f0caea6d892333413745640532d40d70e6b5351d7633\n",
      "Successfully built pyforest\n",
      "Installing collected packages: pyforest\n",
      "Successfully installed pyforest-1.1.0\n",
      "Note: you may need to restart the kernel to use updated packages.\n"
     ]
    }
   ],
   "source": [
    "pip install pyforest"
   ]
  },
  {
   "cell_type": "code",
   "execution_count": 1,
   "metadata": {},
   "outputs": [],
   "source": [
    "from pyforest import *"
   ]
  },
  {
   "cell_type": "code",
   "execution_count": 2,
   "metadata": {},
   "outputs": [
    {
     "data": {
      "text/plain": [
       "['from sklearn.model_selection import train_test_split',\n",
       " 'from sklearn.model_selection import GridSearchCV',\n",
       " 'from sklearn.linear_model import Lasso',\n",
       " 'from sklearn.decomposition import PCA',\n",
       " 'import pandas as pd',\n",
       " 'import cv2',\n",
       " 'from sklearn.model_selection import RandomizedSearchCV',\n",
       " 'import spacy',\n",
       " 'from sklearn.linear_model import RidgeCV',\n",
       " 'from sklearn.impute import SimpleImputer',\n",
       " 'import imutils',\n",
       " 'import plotly as py',\n",
       " 'import torch',\n",
       " 'from sklearn.preprocessing import OneHotEncoder',\n",
       " 'import statsmodels.api as sm',\n",
       " 'from sklearn.feature_extraction.text import CountVectorizer',\n",
       " 'from PIL import Image',\n",
       " 'from pathlib import Path',\n",
       " 'import xgboost as xgb',\n",
       " 'from scipy import stats',\n",
       " 'import tensorflow as tf',\n",
       " 'from statsmodels.tsa.arima_model import ARIMA',\n",
       " 'import numpy as np',\n",
       " 'import seaborn as sns',\n",
       " 'from sklearn.ensemble import RandomForestRegressor',\n",
       " 'from sklearn.ensemble import GradientBoostingRegressor',\n",
       " 'from sklearn.preprocessing import LabelEncoder',\n",
       " 'import awswrangler as wr',\n",
       " 'from sklearn.model_selection import cross_val_score',\n",
       " 'import fastai',\n",
       " 'from dask import dataframe as dd',\n",
       " 'import gensim',\n",
       " 'import lightgbm as lgb',\n",
       " 'import keras',\n",
       " 'import nltk',\n",
       " 'from sklearn.linear_model import LogisticRegression',\n",
       " 'from sklearn.linear_model import ElasticNet',\n",
       " 'import textblob',\n",
       " 'import matplotlib as mpl',\n",
       " 'from sklearn.preprocessing import StandardScaler',\n",
       " 'from sklearn.model_selection import KFold',\n",
       " 'from scipy import signal as sg',\n",
       " 'from sklearn.feature_extraction.text import TfidfVectorizer',\n",
       " 'import tqdm',\n",
       " 'from sklearn.preprocessing import MinMaxScaler',\n",
       " 'import skimage',\n",
       " 'from sklearn import metrics',\n",
       " 'from fbprophet import Prophet',\n",
       " 'from sklearn.preprocessing import PolynomialFeatures',\n",
       " 'from pyspark import SparkContext',\n",
       " 'from sklearn.ensemble import GradientBoostingClassifier',\n",
       " 'import sys',\n",
       " 'import datetime as dt',\n",
       " 'import os',\n",
       " 'from sklearn.linear_model import LassoCV',\n",
       " 'from sklearn import svm',\n",
       " 'import fbprophet',\n",
       " 'import plotly.graph_objs as go',\n",
       " 'from sklearn.ensemble import RandomForestClassifier',\n",
       " 'import pickle',\n",
       " 'from openpyxl import load_workbook',\n",
       " 'from xlrd import open_workbook',\n",
       " 'from sklearn.cluster import KMeans',\n",
       " 'import dash',\n",
       " 'from sklearn.linear_model import ElasticNetCV',\n",
       " 'import bokeh',\n",
       " 'import re',\n",
       " 'from sklearn.linear_model import LinearRegression',\n",
       " 'from sklearn.preprocessing import RobustScaler',\n",
       " 'from sklearn.model_selection import StratifiedKFold',\n",
       " 'import sklearn',\n",
       " 'import pydot',\n",
       " 'import statistics',\n",
       " 'from sklearn.manifold import TSNE',\n",
       " 'import matplotlib.pyplot as plt',\n",
       " 'import plotly.express as px',\n",
       " 'import altair as alt',\n",
       " 'import glob',\n",
       " 'from sklearn.linear_model import Ridge']"
      ]
     },
     "execution_count": 2,
     "metadata": {},
     "output_type": "execute_result"
    }
   ],
   "source": [
    "lazy_imports()"
   ]
  },
  {
   "cell_type": "code",
   "execution_count": 3,
   "metadata": {},
   "outputs": [],
   "source": [
    "import  numpy"
   ]
  },
  {
   "cell_type": "code",
   "execution_count": null,
   "metadata": {},
   "outputs": [],
   "source": []
  },
  {
   "cell_type": "code",
   "execution_count": null,
   "metadata": {},
   "outputs": [],
   "source": []
  },
  {
   "cell_type": "code",
   "execution_count": null,
   "metadata": {},
   "outputs": [],
   "source": []
  },
  {
   "cell_type": "code",
   "execution_count": null,
   "metadata": {},
   "outputs": [],
   "source": []
  }
 ],
 "metadata": {
  "kernelspec": {
   "display_name": "Python 3",
   "language": "python",
   "name": "python3"
  },
  "language_info": {
   "codemirror_mode": {
    "name": "ipython",
    "version": 3
   },
   "file_extension": ".py",
   "mimetype": "text/x-python",
   "name": "python",
   "nbconvert_exporter": "python",
   "pygments_lexer": "ipython3",
   "version": "3.8.3"
  }
 },
 "nbformat": 4,
 "nbformat_minor": 4
}
